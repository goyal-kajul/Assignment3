{
 "cells": [
  {
   "cell_type": "code",
   "execution_count": 1,
   "metadata": {},
   "outputs": [],
   "source": [
    "import tensorflow"
   ]
  },
  {
   "cell_type": "code",
   "execution_count": 4,
   "metadata": {},
   "outputs": [],
   "source": [
    "import keras\n",
    "from keras.datasets import mnist\n",
    "from keras.models import Sequential\n",
    "from keras.layers import Dense, Dropout, Flatten, Activation\n",
    "from keras import backend as K\n",
    "import numpy as np\n",
    "from sklearn.model_selection import train_test_split"
   ]
  },
  {
   "cell_type": "code",
   "execution_count": 3,
   "metadata": {},
   "outputs": [],
   "source": [
    "import pickle\n",
    "import matplotlib.pyplot as plt"
   ]
  },
  {
   "cell_type": "code",
   "execution_count": 5,
   "metadata": {},
   "outputs": [],
   "source": [
    "filename='C:\\\\Users\\\\KAJUL\\\\Desktop\\\\Assignment3\\\\trainX.pickle'\n",
    "infile1 = open(filename,'rb')\n",
    "trainx = pickle.load(infile1)\n",
    "filename='C:\\\\Users\\\\KAJUL\\\\Desktop\\\\Assignment3\\\\testX.pickle'\n",
    "infile2 = open(filename,'rb')\n",
    "testx = pickle.load(infile2)\n",
    "filename='C:\\\\Users\\\\KAJUL\\\\Desktop\\\\Assignment3\\\\trainY.pickle'\n",
    "infile3 = open(filename,'rb')\n",
    "trainy = pickle.load(infile3)"
   ]
  },
  {
   "cell_type": "code",
   "execution_count": 6,
   "metadata": {},
   "outputs": [],
   "source": [
    "# input image dimensions\n",
    "img_rows, img_cols = 28, 28\n",
    "x_train, x_valid,y_train,y_valid=train_test_split(trainx,trainy,test_size=0.16666)\n",
    "# the data, shuffled and split between train and test sets"
   ]
  },
  {
   "cell_type": "code",
   "execution_count": 7,
   "metadata": {},
   "outputs": [
    {
     "name": "stdout",
     "output_type": "stream",
     "text": [
      "(50000, 28, 28)\n",
      "(10000,)\n",
      "(10000, 28, 28)\n",
      "(50000,)\n"
     ]
    }
   ],
   "source": [
    "print(x_train.shape)\n",
    "print(y_valid.shape)\n",
    "print(x_valid.shape)\n",
    "print(y_train.shape)"
   ]
  },
  {
   "cell_type": "code",
   "execution_count": 8,
   "metadata": {},
   "outputs": [],
   "source": [
    "batch_size = 128\n",
    "num_classes = 10\n",
    "epochs = 100"
   ]
  },
  {
   "cell_type": "code",
   "execution_count": 9,
   "metadata": {},
   "outputs": [
    {
     "name": "stdout",
     "output_type": "stream",
     "text": [
      "x_train shape: (50000, 28, 28)\n",
      "50000 train samples\n",
      "10000 test samples\n"
     ]
    }
   ],
   "source": [
    "x_train = x_train.astype('float32')\n",
    "x_valid = x_valid.astype('float32')\n",
    "x_train /= 255\n",
    "x_valid /= 255\n",
    "print('x_train shape:', x_train.shape)\n",
    "print(x_train.shape[0], 'train samples')\n",
    "print(x_valid.shape[0], 'test samples')\n",
    "\n",
    "# convert class vectors to binary class matrices\n",
    "y_train = keras.utils.to_categorical(y_train, num_classes)\n",
    "y_valid = keras.utils.to_categorical(y_valid, num_classes)"
   ]
  },
  {
   "cell_type": "code",
   "execution_count": 10,
   "metadata": {},
   "outputs": [
    {
     "name": "stderr",
     "output_type": "stream",
     "text": [
      "WARNING: Logging before flag parsing goes to stderr.\n",
      "W0623 16:07:53.466972 11776 deprecation_wrapper.py:119] From C:\\Users\\KAJUL\\Anaconda3\\envs\\hello-tf\\lib\\site-packages\\keras\\backend\\tensorflow_backend.py:74: The name tf.get_default_graph is deprecated. Please use tf.compat.v1.get_default_graph instead.\n",
      "\n",
      "W0623 16:07:53.534957 11776 deprecation_wrapper.py:119] From C:\\Users\\KAJUL\\Anaconda3\\envs\\hello-tf\\lib\\site-packages\\keras\\backend\\tensorflow_backend.py:517: The name tf.placeholder is deprecated. Please use tf.compat.v1.placeholder instead.\n",
      "\n",
      "W0623 16:07:53.546952 11776 deprecation_wrapper.py:119] From C:\\Users\\KAJUL\\Anaconda3\\envs\\hello-tf\\lib\\site-packages\\keras\\backend\\tensorflow_backend.py:4138: The name tf.random_uniform is deprecated. Please use tf.random.uniform instead.\n",
      "\n"
     ]
    },
    {
     "name": "stdout",
     "output_type": "stream",
     "text": [
      "(10000, 10)\n"
     ]
    },
    {
     "name": "stderr",
     "output_type": "stream",
     "text": [
      "W0623 16:07:53.769730 11776 deprecation_wrapper.py:119] From C:\\Users\\KAJUL\\Anaconda3\\envs\\hello-tf\\lib\\site-packages\\keras\\optimizers.py:790: The name tf.train.Optimizer is deprecated. Please use tf.compat.v1.train.Optimizer instead.\n",
      "\n",
      "W0623 16:07:53.811911 11776 deprecation_wrapper.py:119] From C:\\Users\\KAJUL\\Anaconda3\\envs\\hello-tf\\lib\\site-packages\\keras\\backend\\tensorflow_backend.py:3295: The name tf.log is deprecated. Please use tf.math.log instead.\n",
      "\n"
     ]
    },
    {
     "name": "stdout",
     "output_type": "stream",
     "text": [
      "_________________________________________________________________\n",
      "Layer (type)                 Output Shape              Param #   \n",
      "=================================================================\n",
      "dense_1 (Dense)              (None, 500)               392500    \n",
      "_________________________________________________________________\n",
      "activation_1 (Activation)    (None, 500)               0         \n",
      "_________________________________________________________________\n",
      "dense_2 (Dense)              (None, 300)               150300    \n",
      "_________________________________________________________________\n",
      "activation_2 (Activation)    (None, 300)               0         \n",
      "_________________________________________________________________\n",
      "dense_3 (Dense)              (None, 10)                3010      \n",
      "_________________________________________________________________\n",
      "activation_3 (Activation)    (None, 10)                0         \n",
      "=================================================================\n",
      "Total params: 545,810\n",
      "Trainable params: 545,810\n",
      "Non-trainable params: 0\n",
      "_________________________________________________________________\n"
     ]
    }
   ],
   "source": [
    "x_train = np.reshape(x_train, (50000, 784))\n",
    "x_valid = np.reshape(x_valid, (10000, 784))\n",
    "print(y_valid.shape)\n",
    "model = Sequential()\n",
    "model.add(Dense(500, input_dim=784), )\n",
    "model.add(Activation('relu'))\n",
    "# model.add(Dropout(0.4))\n",
    "model.add(Dense(300))\n",
    "model.add(Activation('relu'))\n",
    "# model.add(Dropout(0.4))\n",
    "model.add(Dense(10))\n",
    "model.add(Activation('softmax'))\n",
    "model.summary()\n",
    "model.compile(loss=keras.losses.categorical_crossentropy,\n",
    "              optimizer=keras.optimizers.Adadelta(),\n",
    "              metrics=['accuracy'])"
   ]
  },
  {
   "cell_type": "code",
   "execution_count": 11,
   "metadata": {},
   "outputs": [
    {
     "name": "stderr",
     "output_type": "stream",
     "text": [
      "W0623 16:08:02.219030 11776 deprecation.py:323] From C:\\Users\\KAJUL\\AppData\\Roaming\\Python\\Python36\\site-packages\\tensorflow\\python\\ops\\math_grad.py:1250: add_dispatch_support.<locals>.wrapper (from tensorflow.python.ops.array_ops) is deprecated and will be removed in a future version.\n",
      "Instructions for updating:\n",
      "Use tf.where in 2.0, which has the same broadcast rule as np.where\n",
      "W0623 16:08:02.595679 11776 deprecation_wrapper.py:119] From C:\\Users\\KAJUL\\Anaconda3\\envs\\hello-tf\\lib\\site-packages\\keras\\backend\\tensorflow_backend.py:986: The name tf.assign_add is deprecated. Please use tf.compat.v1.assign_add instead.\n",
      "\n"
     ]
    },
    {
     "name": "stdout",
     "output_type": "stream",
     "text": [
      "Train on 50000 samples, validate on 10000 samples\n",
      "Epoch 1/100\n",
      "50000/50000 [==============================] - 11s 229us/step - loss: 0.5886 - acc: 0.7868 - val_loss: 0.4334 - val_acc: 0.8443\n",
      "Epoch 2/100\n",
      "50000/50000 [==============================] - 9s 183us/step - loss: 0.4037 - acc: 0.8528 - val_loss: 0.3674 - val_acc: 0.8659\n",
      "Epoch 3/100\n",
      "50000/50000 [==============================] - 9s 182us/step - loss: 0.3540 - acc: 0.8686 - val_loss: 0.4134 - val_acc: 0.8497\n",
      "Epoch 4/100\n",
      "50000/50000 [==============================] - 9s 184us/step - loss: 0.3244 - acc: 0.8795 - val_loss: 0.3524 - val_acc: 0.8673\n",
      "Epoch 5/100\n",
      "50000/50000 [==============================] - 9s 180us/step - loss: 0.3034 - acc: 0.8875 - val_loss: 0.3217 - val_acc: 0.8820\n",
      "Epoch 6/100\n",
      "50000/50000 [==============================] - 10s 195us/step - loss: 0.2835 - acc: 0.8940 - val_loss: 0.3217 - val_acc: 0.8799\n",
      "Epoch 7/100\n",
      "50000/50000 [==============================] - 9s 180us/step - loss: 0.2715 - acc: 0.8990 - val_loss: 0.3473 - val_acc: 0.8662\n",
      "Epoch 8/100\n",
      "50000/50000 [==============================] - 9s 173us/step - loss: 0.2558 - acc: 0.9047 - val_loss: 0.3627 - val_acc: 0.8713\n",
      "Epoch 9/100\n",
      "50000/50000 [==============================] - 9s 176us/step - loss: 0.2427 - acc: 0.9080 - val_loss: 0.3219 - val_acc: 0.8825\n",
      "Epoch 10/100\n",
      "50000/50000 [==============================] - 8s 170us/step - loss: 0.2337 - acc: 0.9104 - val_loss: 0.3318 - val_acc: 0.8804\n",
      "Epoch 11/100\n",
      "50000/50000 [==============================] - 10s 193us/step - loss: 0.2235 - acc: 0.9152 - val_loss: 0.3444 - val_acc: 0.8800\n",
      "Epoch 12/100\n",
      "50000/50000 [==============================] - 9s 183us/step - loss: 0.2136 - acc: 0.9187 - val_loss: 0.3173 - val_acc: 0.8895\n",
      "Epoch 13/100\n",
      "50000/50000 [==============================] - 9s 181us/step - loss: 0.2063 - acc: 0.9212 - val_loss: 0.3394 - val_acc: 0.8808\n",
      "Epoch 14/100\n",
      "50000/50000 [==============================] - 9s 183us/step - loss: 0.1970 - acc: 0.9258 - val_loss: 0.3369 - val_acc: 0.8842\n",
      "Epoch 15/100\n",
      "50000/50000 [==============================] - 9s 178us/step - loss: 0.1877 - acc: 0.9292 - val_loss: 0.3518 - val_acc: 0.8849\n",
      "Epoch 16/100\n",
      "50000/50000 [==============================] - 9s 182us/step - loss: 0.1818 - acc: 0.9310 - val_loss: 0.3443 - val_acc: 0.8876\n",
      "Epoch 17/100\n",
      "50000/50000 [==============================] - 9s 179us/step - loss: 0.1756 - acc: 0.9334 - val_loss: 0.3050 - val_acc: 0.8982\n",
      "Epoch 18/100\n",
      "50000/50000 [==============================] - 9s 183us/step - loss: 0.1675 - acc: 0.9366 - val_loss: 0.3364 - val_acc: 0.8901\n",
      "Epoch 19/100\n",
      "50000/50000 [==============================] - 9s 182us/step - loss: 0.1610 - acc: 0.9394 - val_loss: 0.3094 - val_acc: 0.8948\n",
      "Epoch 20/100\n",
      "50000/50000 [==============================] - 9s 181us/step - loss: 0.1553 - acc: 0.9410 - val_loss: 0.3400 - val_acc: 0.8852\n",
      "Epoch 21/100\n",
      "50000/50000 [==============================] - 9s 183us/step - loss: 0.1498 - acc: 0.9430 - val_loss: 0.3232 - val_acc: 0.8959\n",
      "Epoch 22/100\n",
      "50000/50000 [==============================] - 9s 180us/step - loss: 0.1436 - acc: 0.9458 - val_loss: 0.3211 - val_acc: 0.8970\n",
      "Epoch 23/100\n",
      "50000/50000 [==============================] - 9s 184us/step - loss: 0.1392 - acc: 0.9467 - val_loss: 0.3550 - val_acc: 0.8833\n",
      "Epoch 24/100\n",
      "50000/50000 [==============================] - 9s 180us/step - loss: 0.1352 - acc: 0.9491 - val_loss: 0.3281 - val_acc: 0.8966\n",
      "Epoch 25/100\n",
      "50000/50000 [==============================] - 9s 184us/step - loss: 0.1288 - acc: 0.9516 - val_loss: 0.3209 - val_acc: 0.8983\n",
      "Epoch 26/100\n",
      "50000/50000 [==============================] - 9s 181us/step - loss: 0.1248 - acc: 0.9529 - val_loss: 0.3733 - val_acc: 0.8869\n",
      "Epoch 27/100\n",
      "50000/50000 [==============================] - 9s 180us/step - loss: 0.1207 - acc: 0.9543 - val_loss: 0.3542 - val_acc: 0.8997\n",
      "Epoch 28/100\n",
      "50000/50000 [==============================] - 9s 183us/step - loss: 0.1147 - acc: 0.9566 - val_loss: 0.3855 - val_acc: 0.8911\n",
      "Epoch 29/100\n",
      "50000/50000 [==============================] - 9s 179us/step - loss: 0.1130 - acc: 0.9576 - val_loss: 0.3821 - val_acc: 0.8890\n",
      "Epoch 30/100\n",
      "50000/50000 [==============================] - 9s 184us/step - loss: 0.1066 - acc: 0.9601 - val_loss: 0.3660 - val_acc: 0.8956\n",
      "Epoch 31/100\n",
      "50000/50000 [==============================] - 9s 179us/step - loss: 0.1041 - acc: 0.9607 - val_loss: 0.4161 - val_acc: 0.8881\n",
      "Epoch 32/100\n",
      "50000/50000 [==============================] - 9s 183us/step - loss: 0.0999 - acc: 0.9624 - val_loss: 0.4034 - val_acc: 0.8987\n",
      "Epoch 33/100\n",
      "50000/50000 [==============================] - 9s 180us/step - loss: 0.0968 - acc: 0.9626 - val_loss: 0.3799 - val_acc: 0.8959\n",
      "Epoch 34/100\n",
      "50000/50000 [==============================] - 9s 183us/step - loss: 0.0933 - acc: 0.9650 - val_loss: 0.4301 - val_acc: 0.8888\n",
      "Epoch 35/100\n",
      "50000/50000 [==============================] - 9s 182us/step - loss: 0.0904 - acc: 0.9651 - val_loss: 0.4059 - val_acc: 0.8979\n",
      "Epoch 36/100\n",
      "50000/50000 [==============================] - 9s 181us/step - loss: 0.0877 - acc: 0.9669 - val_loss: 0.4039 - val_acc: 0.8895\n",
      "Epoch 37/100\n",
      "50000/50000 [==============================] - 9s 185us/step - loss: 0.0839 - acc: 0.9673 - val_loss: 0.4505 - val_acc: 0.8918\n",
      "Epoch 38/100\n",
      "50000/50000 [==============================] - 9s 182us/step - loss: 0.0821 - acc: 0.9691 - val_loss: 0.4624 - val_acc: 0.8848\n",
      "Epoch 39/100\n",
      "50000/50000 [==============================] - 9s 185us/step - loss: 0.0807 - acc: 0.9691 - val_loss: 0.4475 - val_acc: 0.8939\n",
      "Epoch 40/100\n",
      "50000/50000 [==============================] - 10s 195us/step - loss: 0.0766 - acc: 0.9712 - val_loss: 0.4263 - val_acc: 0.8989\n",
      "Epoch 41/100\n",
      "50000/50000 [==============================] - 10s 192us/step - loss: 0.0740 - acc: 0.9713 - val_loss: 0.4438 - val_acc: 0.8978\n",
      "Epoch 42/100\n",
      "50000/50000 [==============================] - 9s 186us/step - loss: 0.0716 - acc: 0.9732 - val_loss: 0.4446 - val_acc: 0.8985\n",
      "Epoch 43/100\n",
      "50000/50000 [==============================] - 9s 185us/step - loss: 0.0722 - acc: 0.9725 - val_loss: 0.4071 - val_acc: 0.8995\n",
      "Epoch 44/100\n",
      "50000/50000 [==============================] - 10s 190us/step - loss: 0.0660 - acc: 0.9756 - val_loss: 0.4541 - val_acc: 0.9023\n",
      "Epoch 45/100\n",
      "50000/50000 [==============================] - 9s 181us/step - loss: 0.0653 - acc: 0.9752 - val_loss: 0.4462 - val_acc: 0.8981\n",
      "Epoch 46/100\n",
      "50000/50000 [==============================] - 9s 184us/step - loss: 0.0618 - acc: 0.9756 - val_loss: 0.4609 - val_acc: 0.8967\n",
      "Epoch 47/100\n",
      "50000/50000 [==============================] - 9s 182us/step - loss: 0.0617 - acc: 0.9770 - val_loss: 0.4265 - val_acc: 0.9039\n",
      "Epoch 48/100\n",
      "50000/50000 [==============================] - 9s 182us/step - loss: 0.0595 - acc: 0.9770 - val_loss: 0.4546 - val_acc: 0.9031\n",
      "Epoch 49/100\n",
      "50000/50000 [==============================] - 9s 182us/step - loss: 0.0587 - acc: 0.9782 - val_loss: 0.4615 - val_acc: 0.8960\n",
      "Epoch 50/100\n",
      "50000/50000 [==============================] - 9s 183us/step - loss: 0.0561 - acc: 0.9788 - val_loss: 0.4960 - val_acc: 0.8934\n",
      "Epoch 51/100\n",
      "50000/50000 [==============================] - 9s 182us/step - loss: 0.0521 - acc: 0.9808 - val_loss: 0.4928 - val_acc: 0.9023\n",
      "Epoch 52/100\n",
      "50000/50000 [==============================] - 9s 181us/step - loss: 0.0525 - acc: 0.9805 - val_loss: 0.4906 - val_acc: 0.8997\n",
      "Epoch 53/100\n",
      "50000/50000 [==============================] - 9s 183us/step - loss: 0.0492 - acc: 0.9818 - val_loss: 0.5177 - val_acc: 0.8993\n",
      "Epoch 54/100\n",
      "50000/50000 [==============================] - 9s 182us/step - loss: 0.0492 - acc: 0.9816 - val_loss: 0.5076 - val_acc: 0.8921\n",
      "Epoch 55/100\n",
      "50000/50000 [==============================] - 10s 192us/step - loss: 0.0469 - acc: 0.9824 - val_loss: 0.5573 - val_acc: 0.8981\n",
      "Epoch 56/100\n",
      "50000/50000 [==============================] - 9s 187us/step - loss: 0.0478 - acc: 0.9817 - val_loss: 0.5737 - val_acc: 0.8843\n",
      "Epoch 57/100\n",
      "50000/50000 [==============================] - 9s 183us/step - loss: 0.0450 - acc: 0.9835 - val_loss: 0.5667 - val_acc: 0.8931\n",
      "Epoch 58/100\n",
      "50000/50000 [==============================] - 9s 185us/step - loss: 0.0428 - acc: 0.9845 - val_loss: 0.5239 - val_acc: 0.8993\n",
      "Epoch 59/100\n"
     ]
    },
    {
     "name": "stdout",
     "output_type": "stream",
     "text": [
      "50000/50000 [==============================] - 9s 171us/step - loss: 0.0440 - acc: 0.9835 - val_loss: 0.5168 - val_acc: 0.8994\n",
      "Epoch 60/100\n",
      "50000/50000 [==============================] - 9s 172us/step - loss: 0.0390 - acc: 0.9851 - val_loss: 0.5976 - val_acc: 0.8959\n",
      "Epoch 61/100\n",
      "50000/50000 [==============================] - 9s 171us/step - loss: 0.0380 - acc: 0.9863 - val_loss: 0.5622 - val_acc: 0.8982\n",
      "Epoch 62/100\n",
      "50000/50000 [==============================] - 9s 170us/step - loss: 0.0377 - acc: 0.9863 - val_loss: 0.5815 - val_acc: 0.8965\n",
      "Epoch 63/100\n",
      "50000/50000 [==============================] - 8s 169us/step - loss: 0.0374 - acc: 0.9863 - val_loss: 0.5816 - val_acc: 0.8905\n",
      "Epoch 64/100\n",
      "50000/50000 [==============================] - 8s 168us/step - loss: 0.0376 - acc: 0.9858 - val_loss: 0.6124 - val_acc: 0.8963\n",
      "Epoch 65/100\n",
      "50000/50000 [==============================] - 8s 170us/step - loss: 0.0361 - acc: 0.9872 - val_loss: 0.5935 - val_acc: 0.8926\n",
      "Epoch 66/100\n",
      "50000/50000 [==============================] - 8s 167us/step - loss: 0.0352 - acc: 0.9872 - val_loss: 0.5674 - val_acc: 0.8977\n",
      "Epoch 67/100\n",
      "50000/50000 [==============================] - 9s 172us/step - loss: 0.0328 - acc: 0.9883 - val_loss: 0.6075 - val_acc: 0.8955\n",
      "Epoch 68/100\n",
      "50000/50000 [==============================] - 8s 166us/step - loss: 0.0337 - acc: 0.9878 - val_loss: 0.6183 - val_acc: 0.8952\n",
      "Epoch 69/100\n",
      "50000/50000 [==============================] - 9s 173us/step - loss: 0.0313 - acc: 0.9888 - val_loss: 0.5473 - val_acc: 0.9000\n",
      "Epoch 70/100\n",
      "50000/50000 [==============================] - 9s 179us/step - loss: 0.0308 - acc: 0.9885 - val_loss: 0.5939 - val_acc: 0.9010\n",
      "Epoch 71/100\n",
      "50000/50000 [==============================] - 9s 182us/step - loss: 0.0276 - acc: 0.9897 - val_loss: 0.5727 - val_acc: 0.8998\n",
      "Epoch 72/100\n",
      "50000/50000 [==============================] - 9s 181us/step - loss: 0.0300 - acc: 0.9894 - val_loss: 0.6239 - val_acc: 0.9004\n",
      "Epoch 73/100\n",
      "50000/50000 [==============================] - 9s 183us/step - loss: 0.0299 - acc: 0.9895 - val_loss: 0.5907 - val_acc: 0.8998\n",
      "Epoch 74/100\n",
      "50000/50000 [==============================] - 9s 184us/step - loss: 0.0258 - acc: 0.9908 - val_loss: 0.5679 - val_acc: 0.9026\n",
      "Epoch 75/100\n",
      "50000/50000 [==============================] - 9s 181us/step - loss: 0.0275 - acc: 0.9901 - val_loss: 0.6041 - val_acc: 0.9024\n",
      "Epoch 76/100\n",
      "50000/50000 [==============================] - 9s 184us/step - loss: 0.0257 - acc: 0.9905 - val_loss: 0.6495 - val_acc: 0.8929\n",
      "Epoch 77/100\n",
      "50000/50000 [==============================] - 9s 180us/step - loss: 0.0263 - acc: 0.9904 - val_loss: 0.5744 - val_acc: 0.9020\n",
      "Epoch 78/100\n",
      "50000/50000 [==============================] - 9s 185us/step - loss: 0.0247 - acc: 0.9910 - val_loss: 0.6335 - val_acc: 0.8988\n",
      "Epoch 79/100\n",
      "50000/50000 [==============================] - 9s 180us/step - loss: 0.0260 - acc: 0.9908 - val_loss: 0.6016 - val_acc: 0.8980\n",
      "Epoch 80/100\n",
      "50000/50000 [==============================] - 9s 185us/step - loss: 0.0236 - acc: 0.9916 - val_loss: 0.6458 - val_acc: 0.8965\n",
      "Epoch 81/100\n",
      "50000/50000 [==============================] - 9s 183us/step - loss: 0.0227 - acc: 0.9921 - val_loss: 0.6183 - val_acc: 0.9045\n",
      "Epoch 82/100\n",
      "50000/50000 [==============================] - 9s 182us/step - loss: 0.0221 - acc: 0.9919 - val_loss: 0.6738 - val_acc: 0.9011\n",
      "Epoch 83/100\n",
      "50000/50000 [==============================] - 9s 184us/step - loss: 0.0211 - acc: 0.9929 - val_loss: 0.6071 - val_acc: 0.9010\n",
      "Epoch 84/100\n",
      "50000/50000 [==============================] - 9s 183us/step - loss: 0.0212 - acc: 0.9926 - val_loss: 0.6170 - val_acc: 0.9015\n",
      "Epoch 85/100\n",
      "50000/50000 [==============================] - 9s 183us/step - loss: 0.0210 - acc: 0.9926 - val_loss: 0.7176 - val_acc: 0.8945\n",
      "Epoch 86/100\n",
      "50000/50000 [==============================] - 9s 181us/step - loss: 0.0213 - acc: 0.9927 - val_loss: 0.6481 - val_acc: 0.9013\n",
      "Epoch 87/100\n",
      "50000/50000 [==============================] - 9s 185us/step - loss: 0.0188 - acc: 0.9934 - val_loss: 0.6193 - val_acc: 0.9000\n",
      "Epoch 88/100\n",
      "50000/50000 [==============================] - 9s 183us/step - loss: 0.0191 - acc: 0.9937 - val_loss: 0.6275 - val_acc: 0.8987\n",
      "Epoch 89/100\n",
      "50000/50000 [==============================] - 9s 183us/step - loss: 0.0206 - acc: 0.9923 - val_loss: 0.6339 - val_acc: 0.9046\n",
      "Epoch 90/100\n",
      "50000/50000 [==============================] - 9s 184us/step - loss: 0.0196 - acc: 0.9934 - val_loss: 0.6577 - val_acc: 0.9008\n",
      "Epoch 91/100\n",
      "50000/50000 [==============================] - 9s 182us/step - loss: 0.0184 - acc: 0.9932 - val_loss: 0.7106 - val_acc: 0.8947\n",
      "Epoch 92/100\n",
      "50000/50000 [==============================] - 9s 185us/step - loss: 0.0168 - acc: 0.9943 - val_loss: 0.6710 - val_acc: 0.8981\n",
      "Epoch 93/100\n",
      "50000/50000 [==============================] - 9s 183us/step - loss: 0.0165 - acc: 0.9946 - val_loss: 0.6928 - val_acc: 0.9011\n",
      "Epoch 94/100\n",
      "50000/50000 [==============================] - 9s 187us/step - loss: 0.0179 - acc: 0.9938 - val_loss: 0.7256 - val_acc: 0.8955\n",
      "Epoch 95/100\n",
      "50000/50000 [==============================] - 9s 186us/step - loss: 0.0172 - acc: 0.9940 - val_loss: 0.6793 - val_acc: 0.9017\n",
      "Epoch 96/100\n",
      "50000/50000 [==============================] - 9s 183us/step - loss: 0.0164 - acc: 0.9940 - val_loss: 0.6586 - val_acc: 0.8990\n",
      "Epoch 97/100\n",
      "50000/50000 [==============================] - 9s 185us/step - loss: 0.0176 - acc: 0.9937 - val_loss: 0.6961 - val_acc: 0.8972\n",
      "Epoch 98/100\n",
      "50000/50000 [==============================] - 9s 183us/step - loss: 0.0169 - acc: 0.9943 - val_loss: 0.6959 - val_acc: 0.8980\n",
      "Epoch 99/100\n",
      "50000/50000 [==============================] - 9s 187us/step - loss: 0.0144 - acc: 0.9955 - val_loss: 0.6868 - val_acc: 0.8986\n",
      "Epoch 100/100\n",
      "50000/50000 [==============================] - 9s 184us/step - loss: 0.0144 - acc: 0.9950 - val_loss: 0.6999 - val_acc: 0.8980\n",
      "Test loss: 0.6999144237615518\n",
      "Test accuracy: 0.898\n"
     ]
    }
   ],
   "source": [
    "model.fit(x_train, y_train,\n",
    "          batch_size=batch_size,\n",
    "          epochs=epochs,\n",
    "          verbose=1,\n",
    "          validation_data=(x_valid, y_valid))\n",
    "\n",
    "score = model.evaluate(x_valid, y_valid, verbose=0)\n",
    "print('Test loss:', score[0])\n",
    "print('Test accuracy:', score[1])"
   ]
  },
  {
   "cell_type": "code",
   "execution_count": 12,
   "metadata": {},
   "outputs": [
    {
     "data": {
      "text/plain": [
       "array([[0., 0., 0., ..., 0., 0., 1.],\n",
       "       [0., 0., 1., ..., 0., 0., 0.],\n",
       "       [0., 1., 0., ..., 0., 0., 0.],\n",
       "       ...,\n",
       "       [0., 0., 0., ..., 0., 1., 0.],\n",
       "       [0., 1., 0., ..., 0., 0., 0.],\n",
       "       [0., 0., 0., ..., 0., 0., 0.]], dtype=float32)"
      ]
     },
     "execution_count": 12,
     "metadata": {},
     "output_type": "execute_result"
    }
   ],
   "source": [
    "testx = np.reshape(testx, (10000, 784))\n",
    "pred=model.predict(testx)\n",
    "pred"
   ]
  },
  {
   "cell_type": "code",
   "execution_count": 13,
   "metadata": {},
   "outputs": [],
   "source": [
    "pickle.dump(pred,open(\"testY.pickle\",'wb'))"
   ]
  },
  {
   "cell_type": "code",
   "execution_count": 19,
   "metadata": {},
   "outputs": [
    {
     "data": {
      "text/plain": [
       "<matplotlib.image.AxesImage at 0x29410940be0>"
      ]
     },
     "execution_count": 19,
     "metadata": {},
     "output_type": "execute_result"
    },
    {
     "data": {
      "image/png": "[encoded data removed]",
      "text/plain": [
       "<Figure size 432x288 with 1 Axes>"
      ]
     },
     "metadata": {
      "needs_background": "light"
     },
     "output_type": "display_data"
    }
   ],
   "source": [
    "plt.imshow(testx[5500],cmap='gist_gray')"
   ]
  },
  {
   "cell_type": "code",
   "execution_count": 20,
   "metadata": {},
   "outputs": [
    {
     "data": {
      "text/plain": [
       "7"
      ]
     },
     "execution_count": 20,
     "metadata": {},
     "output_type": "execute_result"
    }
   ],
   "source": [
    "trainy[5500]"
   ]
  },
  {
   "cell_type": "code",
   "execution_count": 21,
   "metadata": {},
   "outputs": [
    {
     "data": {
      "text/plain": [
       "<matplotlib.image.AxesImage at 0x294109a1d30>"
      ]
     },
     "execution_count": 21,
     "metadata": {},
     "output_type": "execute_result"
    },
    {
     "data": {
      "image/png": "[encoded data removed]",
      "text/plain": [
       "<Figure size 432x288 with 1 Axes>"
      ]
     },
     "metadata": {
      "needs_background": "light"
     },
     "output_type": "display_data"
    }
   ],
   "source": [
    "plt.imshow(trainx[20000],cmap='gist_gray')"
   ]
  },
  {
   "cell_type": "code",
   "execution_count": null,
   "metadata": {},
   "outputs": [],
   "source": []
  }
 ],
 "metadata": {
  "kernelspec": {
   "display_name": "Python 3",
   "language": "python",
   "name": "python3"
  },
  "language_info": {
   "codemirror_mode": {
    "name": "ipython",
    "version": 3
   },
   "file_extension": ".py",
   "mimetype": "text/x-python",
   "name": "python",
   "nbconvert_exporter": "python",
   "pygments_lexer": "ipython3",
   "version": "3.6.8"
  }
 },
 "nbformat": 4,
 "nbformat_minor": 2
}
